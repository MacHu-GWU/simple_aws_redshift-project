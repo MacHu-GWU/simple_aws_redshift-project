{
 "cells": [
  {
   "metadata": {},
   "cell_type": "markdown",
   "source": [
    "# Pythonic Redshift API\n",
    "\n",
    "The ``simple_aws_redshift`` library provides a Pythonic interface for working with AWS Redshift resources. It simplifies the original boto3 API by providing intuitive data models, property-based access patterns, and comprehensive type hints.\n",
    "\n",
    "\n",
    "Quick Start\n",
    "------------------------------------------------------------------------------\n",
    "Import the library and access all public APIs:"
   ],
   "id": "30f7728338b5b90c"
  },
  {
   "metadata": {},
   "cell_type": "code",
   "outputs": [],
   "execution_count": null,
   "source": "import simple_aws_redshift.api as rs",
   "id": "1b1e34f70e3e2e3d"
  },
  {
   "metadata": {
    "ExecuteTime": {
     "end_time": "2025-06-16T18:53:51.242434Z",
     "start_time": "2025-06-16T18:53:51.020342Z"
    }
   },
   "cell_type": "code",
   "source": [
    "import boto3\n",
    "\n",
    "# Create boto3 clients\n",
    "redshift_client = boto3.client(\"redshift\")\n",
    "redshift_serverless_client = boto3.client(\"redshift-serverless\")\n",
    "redshift_data_client = boto3.client(\"redshift-data\")"
   ],
   "id": "2ee0233a67903f77",
   "outputs": [],
   "execution_count": 28
  },
  {
   "metadata": {},
   "cell_type": "markdown",
   "source": [
    "## Working with Redshift Clusters\n",
    "\n",
    "### List All Clusters"
   ],
   "id": "b374e40acf322f75"
  },
  {
   "metadata": {},
   "cell_type": "code",
   "outputs": [],
   "execution_count": null,
   "source": [
    "clusters = rs.redshift.list_redshift_clusters(redshift_client)\n",
    "\n",
    "for cluster in clusters:\n",
    "    print(f\"{cluster.cluster_identifier = }\")\n",
    "    print(f\"{cluster.endpoint_address = }\")\n",
    "    print(f\"{cluster.endpoint_port = }\")"
   ],
   "id": "7b3b3508c2e6bcab"
  },
  {
   "metadata": {},
   "cell_type": "markdown",
   "source": "### Get Specific Cluster\n",
   "id": "ddbe6014c0e97a36"
  },
  {
   "metadata": {},
   "cell_type": "code",
   "outputs": [],
   "execution_count": null,
   "source": [
    "cluster = rs.redshift.get_redshift_cluster(\n",
    "    redshift_client,\n",
    "    cluster_identifier=\"my-cluster\",\n",
    ")\n",
    "print(f\"{cluster.cluster_identifier = }\")\n",
    "print(f\"{cluster.endpoint_address = }\")\n",
    "print(f\"{cluster.endpoint_port = }\")\n",
    "print(f\"{cluster.is_available = }\")\n",
    "print(f\"{cluster.is_creating = }\")\n",
    "print(f\"{cluster.is_deleting = }\")\n",
    "print(f\"{cluster.is_modifying = }\")\n",
    "print(f\"{cluster.is_paused = }\")\n",
    "print(f\"{cluster.is_rebooting = }\")\n",
    "print(f\"{cluster.is_resizing = }\")"
   ],
   "id": "83a28d73989b1acc"
  },
  {
   "metadata": {},
   "cell_type": "markdown",
   "source": [
    "## Working with Redshift Serverless\n",
    "\n",
    "### List All Namespaces"
   ],
   "id": "ea96d70b07e13d82"
  },
  {
   "metadata": {},
   "cell_type": "code",
   "outputs": [],
   "execution_count": null,
   "source": [
    "# List all Redshift Serverless namespaces\n",
    "namespaces = rs.redshift_serverless.list_namespaces(redshift_serverless_client)\n",
    "\n",
    "# Iterate through namespaces\n",
    "for namespace in namespaces:\n",
    "    print(f\"{namespace.namespace_name = }\")\n",
    "    print(f\"{namespace.status = }\")\n",
    "    print(f\"{namespace.is_available = }\")"
   ],
   "id": "345a6c10abb10bea"
  },
  {
   "metadata": {},
   "cell_type": "markdown",
   "source": "### Get Specific Namespace",
   "id": "941eaf1aa85c334b"
  },
  {
   "metadata": {},
   "cell_type": "code",
   "outputs": [],
   "execution_count": null,
   "source": [
    "namespace = rs.redshift_serverless.get_namespace(\n",
    "    redshift_serverless_client,\n",
    "    namespace_name=\"simple-aws-redshift-dev\",\n",
    ")\n",
    "print(f\"{namespace.namespace_name = }\")\n",
    "print(f\"{namespace.db_name = }\")\n",
    "print(f\"{namespace.status = }\")\n",
    "print(f\"{namespace.is_available = }\")"
   ],
   "id": "80559c3bbf8831ba"
  },
  {
   "metadata": {},
   "cell_type": "markdown",
   "source": "### Delete Namespace",
   "id": "e7b8583341ec1e8e"
  },
  {
   "metadata": {},
   "cell_type": "code",
   "outputs": [],
   "execution_count": null,
   "source": [
    "deleted_namespace = rs.redshift_serverless.delete_namespace(\n",
    "    redshift_serverless_client,\n",
    "    namespace_name=\"invalid-namespace\",\n",
    ")"
   ],
   "id": "fe7a99664d907a29"
  },
  {
   "metadata": {},
   "cell_type": "markdown",
   "source": "### List All Workgroups",
   "id": "cc074eef887e06a2"
  },
  {
   "metadata": {},
   "cell_type": "code",
   "outputs": [],
   "execution_count": null,
   "source": [
    "# List all Redshift Serverless workgroups\n",
    "workgroups = rs.redshift_serverless.list_workgroups(redshift_serverless_client)\n",
    "\n",
    "# Iterate through workgroups\n",
    "for workgroup in workgroups:\n",
    "    print(f\"{workgroup.workgroup_name = }\")\n",
    "    print(f\"{workgroup.status = }\")\n",
    "    print(f\"{workgroup.namespace_name = }\")\n",
    "    print(f\"{workgroup.is_available = }\")"
   ],
   "id": "6affc12dc96dac16"
  },
  {
   "metadata": {},
   "cell_type": "markdown",
   "source": "### Get Specific Workgroup",
   "id": "e68571b2e8547125"
  },
  {
   "metadata": {},
   "cell_type": "code",
   "outputs": [],
   "execution_count": null,
   "source": [
    "workgroup = rs.redshift_serverless.get_workgroup(\n",
    "    redshift_serverless_client,\n",
    "    workgroup_name=\"simple-aws-redshift-dev\",\n",
    ")\n",
    "print(f\"{workgroup.workgroup_name = }\")\n",
    "print(f\"{workgroup.status = }\")\n",
    "print(f\"{workgroup.namespace_name = }\")\n",
    "print(f\"{workgroup.is_available = }\")"
   ],
   "id": "e9c0749d2c122a2a"
  },
  {
   "metadata": {},
   "cell_type": "markdown",
   "source": "### Delete Workgroup",
   "id": "781ffd08e956dc1c"
  },
  {
   "metadata": {},
   "cell_type": "code",
   "outputs": [],
   "execution_count": null,
   "source": [
    "deleted_workgroup = rs.redshift_serverless.delete_workgroup(\n",
    "    redshift_serverless_client,\n",
    "    workgroup_name=\"invalid-workgroup\"\n",
    ")"
   ],
   "id": "ec07ce41702570da"
  },
  {
   "metadata": {},
   "cell_type": "markdown",
   "source": [
    "## Working with Redshift Database Connection\n",
    "\n",
    "### Create Redshift Serverless Connection Parameters"
   ],
   "id": "144f0006730fe4c2"
  },
  {
   "metadata": {},
   "cell_type": "code",
   "outputs": [],
   "execution_count": null,
   "source": [
    "connection_params = rs.RedshiftServerlessConnectionParams.new(\n",
    "    redshift_serverless_client=redshift_serverless_client,\n",
    "    namespace_name=\"simple-aws-redshift-dev\",\n",
    "    workgroup_name=\"simple-aws-redshift-dev\",\n",
    ")"
   ],
   "id": "96f640741a1d49b5"
  },
  {
   "metadata": {},
   "cell_type": "markdown",
   "source": [
    "### Use Redshift Connector\n",
    "\n",
    "The [Redshift connector](https://github.com/aws/amazon-redshift-python-driver) is an AWS-maintained [DB API 2.0 driver](https://peps.python.org/pep-0249/) specifically designed for AWS Redshift databases. While it provides a reliable and official connection interface, it lacks advanced features like ORM\n",
    "  capabilities, relationship mapping, and query builders. This means developers must write most database operations using raw SQL commands, which can be verbose and require more manual effort for complex database\n",
    "  interactions."
   ],
   "id": "b1ed4ffcdd5578b"
  },
  {
   "metadata": {},
   "cell_type": "code",
   "outputs": [],
   "execution_count": null,
   "source": [
    "redshift_connection = connection_params.get_connection(timeout=5)\n",
    "cursor = redshift_connection.cursor()\n",
    "sql = \"SELECT 1;\"\n",
    "cursor.execute(sql)\n",
    "rows = cursor.fetchall()\n",
    "print(rows)\n",
    "print(\"Redshift connection is working!\")\n",
    "redshift_connection.close()"
   ],
   "id": "94c64239cf8f4f93"
  },
  {
   "metadata": {},
   "cell_type": "markdown",
   "source": [
    "### Create Sqlalchemy Engine\n",
    "\n",
    "[SQLAlchemy](https://www.sqlalchemy.org/) is the de facto standard for operating relational databases in Python, providing powerful ORM capabilities and database abstraction layers. Since AWS Redshift is built on top of PostgreSQL, it maintains compatibility with most PostgreSQL APIs and can leverage existing PostgreSQL tooling. However, the official [sqlalchemy-redshift](https://github.com/sqlalchemy-redshift/sqlalchemy-redshift) dialect is no longer maintained since April 2023 after its core AWS developer left, and its older versions force the use of SQLAlchemy < 2.0.0, which conflicts with the modern SQLAlchemy 2.0.0 standard - therefore, we built our own thin dialect layer to make SQLAlchemy work seamlessly with Redshift using the latest standards.\n",
    "\n",
    "**Limitations**:\n",
    "\n",
    "- **Table Creation Limitation**: Since we have not implemented a full Redshift dialect, it’s not possible to use SQLAlchemy to create tables. Redshift tables have special attributes such as Distribution Keys and Sort Keys, which SQLAlchemy does not understand. Therefore, you cannot use SQLAlchemy’s metadata-based create_all() functionality. You must write raw ``CREATE TABLE`` statements manually. However, once the tables are created, you can still use SQLAlchemy’s ORM and Table objects to write queries, which remains an elegant experience.\n",
    "- **Metadata Reflection Issue**: Because SQLAlchemy assumes the backend is standard PostgreSQL, using the MetaData.reflect() function to introspect and reconstruct database DDL objects in memory doesn’t work. Redshift’s PostgreSQL-compatible schema differs from the official PostgreSQL standard, and the reflection functionality cannot accurately interpret those differences.\n",
    "- **Special Syntax Support**: For Redshift-specific syntax such as the COPY command, COPY FROM S3, and UNLOAD, you must write raw SQL — there is no ORM-level abstraction. However, you can still use SQLAlchemy’s transaction context manager to manage the transactional scope of these operations.\n",
    "- **Data Type Limitation**: Redshift-specific data types are not directly supported in the ORM. You need to either use generic data types or handle special types through raw SQL statements."
   ],
   "id": "49d474390952e9a5"
  },
  {
   "metadata": {},
   "cell_type": "code",
   "outputs": [],
   "execution_count": null,
   "source": [
    "import sqlalchemy as sa\n",
    "\n",
    "sqlalchemy_engine = connection_params.get_engine()\n",
    "with sqlalchemy_engine.connect() as conn:\n",
    "    sql = \"SELECT 1;\"\n",
    "    rows = conn.execute(sa.text(sql)).fetchall()\n",
    "    print(rows)\n",
    "    print(\"Sqlalchemy engine is working!\")\n"
   ],
   "id": "972e981c51663263"
  },
  {
   "metadata": {},
   "cell_type": "markdown",
   "source": [
    "## Working with Redshift Data API\n",
    "\n",
    "### Run SQL Queries\n",
    "\n",
    "The original redshift data API execute_statement method is an async call. We provide an elegant way to run SQL on redshift and get results into Dataframe compatible  format elegantly\n"
   ],
   "id": "32192170542e9fd4"
  },
  {
   "metadata": {
    "ExecuteTime": {
     "end_time": "2025-06-16T18:58:25.338561Z",
     "start_time": "2025-06-16T18:58:23.944328Z"
    }
   },
   "cell_type": "code",
   "source": [
    "# Run SQL query and wait it to finish\n",
    "result = rs.redshift_data_api.run_sql(\n",
    "    redshift_data_api_client=redshift_data_client,\n",
    "    sql=\"SELECT 1 as value;\",\n",
    "    workgroup_name=\"simple-aws-redshift-dev\",\n",
    "    database=\"dev\",\n",
    "    delay=1,\n",
    "    timeout=10,\n",
    "    verbose=True,\n",
    "    raises_on_error=True,\n",
    ")\n",
    "print(\"\")\n",
    "print(f\"{result.execution_id = }\")"
   ],
   "id": "4f7aadcec0b9b3fd",
   "outputs": [
    {
     "name": "stdout",
     "output_type": "stream",
     "text": [
      "start waiter, polling every 1 seconds, timeout in 10 seconds.\n",
      "on 1 th attempt, elapsed 1 seconds, remain 9 seconds ....\n",
      "result.execution_id = '5889ad89-b750-415b-a55a-3afa0bd09e4e'\n"
     ]
    }
   ],
   "execution_count": 35
  },
  {
   "metadata": {},
   "cell_type": "markdown",
   "source": "### Get Query Results",
   "id": "97a42c16d89bb81f"
  },
  {
   "metadata": {
    "ExecuteTime": {
     "end_time": "2025-06-16T18:58:25.953761Z",
     "start_time": "2025-06-16T18:58:25.882139Z"
    }
   },
   "cell_type": "code",
   "source": [
    "statement_result_iterproxy = rs.redshift_data_api.get_statement_result(\n",
    "    redshift_data_api_client=redshift_data_client,\n",
    "    id=result.execution_id,\n",
    ")\n",
    "column_oriented_data = statement_result_iterproxy.to_column_oriented_data()\n",
    "print(f\"{column_oriented_data = }\")"
   ],
   "id": "d54dbbb84536a712",
   "outputs": [
    {
     "name": "stdout",
     "output_type": "stream",
     "text": [
      "column_oriented_data = {'value': [1]}\n"
     ]
    }
   ],
   "execution_count": 36
  },
  {
   "metadata": {
    "ExecuteTime": {
     "end_time": "2025-06-16T18:58:41.816069Z",
     "start_time": "2025-06-16T18:58:41.409397Z"
    }
   },
   "cell_type": "code",
   "source": [
    "import pandas as pd\n",
    "\n",
    "df = pd.DataFrame(column_oriented_data)\n",
    "df"
   ],
   "id": "8f776af6335566da",
   "outputs": [
    {
     "data": {
      "text/plain": [
       "   value\n",
       "0      1"
      ],
      "text/html": [
       "<div>\n",
       "<style scoped>\n",
       "    .dataframe tbody tr th:only-of-type {\n",
       "        vertical-align: middle;\n",
       "    }\n",
       "\n",
       "    .dataframe tbody tr th {\n",
       "        vertical-align: top;\n",
       "    }\n",
       "\n",
       "    .dataframe thead th {\n",
       "        text-align: right;\n",
       "    }\n",
       "</style>\n",
       "<table border=\"1\" class=\"dataframe\">\n",
       "  <thead>\n",
       "    <tr style=\"text-align: right;\">\n",
       "      <th></th>\n",
       "      <th>value</th>\n",
       "    </tr>\n",
       "  </thead>\n",
       "  <tbody>\n",
       "    <tr>\n",
       "      <th>0</th>\n",
       "      <td>1</td>\n",
       "    </tr>\n",
       "  </tbody>\n",
       "</table>\n",
       "</div>"
      ]
     },
     "execution_count": 37,
     "metadata": {},
     "output_type": "execute_result"
    }
   ],
   "execution_count": 37
  },
  {
   "metadata": {
    "ExecuteTime": {
     "end_time": "2025-06-16T18:58:51.736448Z",
     "start_time": "2025-06-16T18:58:51.580778Z"
    }
   },
   "cell_type": "code",
   "source": [
    "import polars as pl\n",
    "\n",
    "df = pl.DataFrame(column_oriented_data)\n",
    "df"
   ],
   "id": "f2c4508cadb1a5b3",
   "outputs": [
    {
     "data": {
      "text/plain": [
       "shape: (1, 1)\n",
       "┌───────┐\n",
       "│ value │\n",
       "│ ---   │\n",
       "│ i64   │\n",
       "╞═══════╡\n",
       "│ 1     │\n",
       "└───────┘"
      ],
      "text/html": [
       "<div><style>\n",
       ".dataframe > thead > tr,\n",
       ".dataframe > tbody > tr {\n",
       "  text-align: right;\n",
       "  white-space: pre-wrap;\n",
       "}\n",
       "</style>\n",
       "<small>shape: (1, 1)</small><table border=\"1\" class=\"dataframe\"><thead><tr><th>value</th></tr><tr><td>i64</td></tr></thead><tbody><tr><td>1</td></tr></tbody></table></div>"
      ]
     },
     "execution_count": 38,
     "metadata": {},
     "output_type": "execute_result"
    }
   ],
   "execution_count": 38
  }
 ],
 "metadata": {
  "kernelspec": {
   "display_name": "Python 3 (ipykernel)",
   "language": "python",
   "name": "python3"
  },
  "language_info": {
   "codemirror_mode": {
    "name": "ipython",
    "version": 3
   },
   "file_extension": ".py",
   "mimetype": "text/x-python",
   "name": "python",
   "nbconvert_exporter": "python",
   "pygments_lexer": "ipython3",
   "version": "3.11.8"
  }
 },
 "nbformat": 4,
 "nbformat_minor": 5
}
