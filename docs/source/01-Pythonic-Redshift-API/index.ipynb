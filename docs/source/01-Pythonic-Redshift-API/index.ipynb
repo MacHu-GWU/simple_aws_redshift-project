{
 "cells": [
  {
   "cell_type": "markdown",
   "id": "30f7728338b5b90c",
   "metadata": {},
   "source": [
    "# Pythonic Redshift API\n",
    "\n",
    "The ``simple_aws_redshift`` library provides a Pythonic interface for working with AWS Redshift resources. It simplifies the original boto3 API by providing intuitive data models, property-based access patterns, and comprehensive type hints.\n",
    "\n",
    "\n",
    "Quick Start\n",
    "------------------------------------------------------------------------------\n",
    "Import the library and access all public APIs:"
   ]
  },
  {
   "cell_type": "code",
   "execution_count": 1,
   "id": "1b1e34f70e3e2e3d",
   "metadata": {},
   "outputs": [],
   "source": [
    "import simple_aws_redshift.api as rs"
   ]
  },
  {
   "cell_type": "code",
   "execution_count": 2,
   "id": "2ee0233a67903f77",
   "metadata": {
    "ExecuteTime": {
     "end_time": "2025-06-16T18:53:51.242434Z",
     "start_time": "2025-06-16T18:53:51.020342Z"
    }
   },
   "outputs": [],
   "source": [
    "import boto3\n",
    "\n",
    "# Create boto3 clients\n",
    "redshift_client = boto3.client(\"redshift\")\n",
    "redshift_serverless_client = boto3.client(\"redshift-serverless\")\n",
    "redshift_data_client = boto3.client(\"redshift-data\")"
   ]
  },
  {
   "cell_type": "markdown",
   "id": "b374e40acf322f75",
   "metadata": {},
   "source": [
    "## Working with Redshift Clusters\n",
    "\n",
    "### List All Clusters"
   ]
  },
  {
   "cell_type": "code",
   "execution_count": 3,
   "id": "7b3b3508c2e6bcab",
   "metadata": {},
   "outputs": [],
   "source": [
    "clusters = rs.redshift.list_redshift_clusters(redshift_client)\n",
    "\n",
    "for cluster in clusters:\n",
    "    print(f\"{cluster.cluster_identifier = }\")\n",
    "    print(f\"{cluster.endpoint_address = }\")\n",
    "    print(f\"{cluster.endpoint_port = }\")"
   ]
  },
  {
   "cell_type": "markdown",
   "id": "ddbe6014c0e97a36",
   "metadata": {},
   "source": [
    "### Get Specific Cluster\n"
   ]
  },
  {
   "cell_type": "code",
   "execution_count": 4,
   "id": "83a28d73989b1acc",
   "metadata": {},
   "outputs": [],
   "source": [
    "cluster = rs.redshift.get_redshift_cluster(\n",
    "    redshift_client,\n",
    "    cluster_identifier=\"my-cluster\",\n",
    ")\n",
    "print(f\"{cluster.cluster_identifier = }\")\n",
    "print(f\"{cluster.endpoint_address = }\")\n",
    "print(f\"{cluster.endpoint_port = }\")\n",
    "print(f\"{cluster.is_available = }\")\n",
    "print(f\"{cluster.is_creating = }\")\n",
    "print(f\"{cluster.is_deleting = }\")\n",
    "print(f\"{cluster.is_modifying = }\")\n",
    "print(f\"{cluster.is_paused = }\")\n",
    "print(f\"{cluster.is_rebooting = }\")\n",
    "print(f\"{cluster.is_resizing = }\")"
   ]
  },
  {
   "cell_type": "markdown",
   "id": "ea96d70b07e13d82",
   "metadata": {},
   "source": [
    "## Working with Redshift Serverless\n",
    "\n",
    "### List All Namespaces"
   ]
  },
  {
   "cell_type": "code",
   "execution_count": null,
   "id": "345a6c10abb10bea",
   "metadata": {},
   "outputs": [],
   "source": [
    "# List all Redshift Serverless namespaces\n",
    "namespaces = rs.redshift_serverless.list_namespaces(redshift_serverless_client)\n",
    "\n",
    "# Iterate through namespaces\n",
    "for namespace in namespaces:\n",
    "    print(f\"{namespace.namespace_name = }\")\n",
    "    print(f\"{namespace.status = }\")\n",
    "    print(f\"{namespace.is_available = }\")"
   ]
  },
  {
   "cell_type": "markdown",
   "id": "941eaf1aa85c334b",
   "metadata": {},
   "source": [
    "### Get Specific Namespace"
   ]
  },
  {
   "cell_type": "code",
   "execution_count": null,
   "id": "80559c3bbf8831ba",
   "metadata": {},
   "outputs": [],
   "source": [
    "namespace = rs.redshift_serverless.get_namespace(\n",
    "    redshift_serverless_client,\n",
    "    namespace_name=\"simple-aws-redshift-dev\",\n",
    ")\n",
    "print(f\"{namespace.namespace_name = }\")\n",
    "print(f\"{namespace.db_name = }\")\n",
    "print(f\"{namespace.status = }\")\n",
    "print(f\"{namespace.is_available = }\")"
   ]
  },
  {
   "cell_type": "markdown",
   "id": "e7b8583341ec1e8e",
   "metadata": {},
   "source": [
    "### Delete Namespace"
   ]
  },
  {
   "cell_type": "code",
   "execution_count": null,
   "id": "fe7a99664d907a29",
   "metadata": {},
   "outputs": [],
   "source": [
    "deleted_namespace = rs.redshift_serverless.delete_namespace(\n",
    "    redshift_serverless_client,\n",
    "    namespace_name=\"invalid-namespace\",\n",
    ")"
   ]
  },
  {
   "cell_type": "markdown",
   "id": "cc074eef887e06a2",
   "metadata": {},
   "source": [
    "### List All Workgroups"
   ]
  },
  {
   "cell_type": "code",
   "execution_count": null,
   "id": "6affc12dc96dac16",
   "metadata": {},
   "outputs": [],
   "source": [
    "# List all Redshift Serverless workgroups\n",
    "workgroups = rs.redshift_serverless.list_workgroups(redshift_serverless_client)\n",
    "\n",
    "# Iterate through workgroups\n",
    "for workgroup in workgroups:\n",
    "    print(f\"{workgroup.workgroup_name = }\")\n",
    "    print(f\"{workgroup.status = }\")\n",
    "    print(f\"{workgroup.namespace_name = }\")\n",
    "    print(f\"{workgroup.is_available = }\")"
   ]
  },
  {
   "cell_type": "markdown",
   "id": "e68571b2e8547125",
   "metadata": {},
   "source": [
    "### Get Specific Workgroup"
   ]
  },
  {
   "cell_type": "code",
   "execution_count": null,
   "id": "e9c0749d2c122a2a",
   "metadata": {},
   "outputs": [],
   "source": [
    "workgroup = rs.redshift_serverless.get_workgroup(\n",
    "    redshift_serverless_client,\n",
    "    workgroup_name=\"simple-aws-redshift-dev\",\n",
    ")\n",
    "print(f\"{workgroup.workgroup_name = }\")\n",
    "print(f\"{workgroup.status = }\")\n",
    "print(f\"{workgroup.namespace_name = }\")\n",
    "print(f\"{workgroup.is_available = }\")"
   ]
  },
  {
   "cell_type": "markdown",
   "id": "781ffd08e956dc1c",
   "metadata": {},
   "source": [
    "### Delete Workgroup"
   ]
  },
  {
   "cell_type": "code",
   "execution_count": null,
   "id": "ec07ce41702570da",
   "metadata": {},
   "outputs": [],
   "source": [
    "deleted_workgroup = rs.redshift_serverless.delete_workgroup(\n",
    "    redshift_serverless_client,\n",
    "    workgroup_name=\"invalid-workgroup\"\n",
    ")"
   ]
  },
  {
   "cell_type": "markdown",
   "id": "144f0006730fe4c2",
   "metadata": {},
   "source": [
    "## Working with Redshift Database Connection\n",
    "\n",
    "### Create Redshift Serverless Connection Parameters"
   ]
  },
  {
   "cell_type": "code",
   "execution_count": null,
   "id": "96f640741a1d49b5",
   "metadata": {},
   "outputs": [],
   "source": [
    "connection_params = rs.RedshiftServerlessConnectionParams.new(\n",
    "    redshift_serverless_client=redshift_serverless_client,\n",
    "    namespace_name=\"simple-aws-redshift-dev\",\n",
    "    workgroup_name=\"simple-aws-redshift-dev\",\n",
    ")"
   ]
  },
  {
   "cell_type": "markdown",
   "id": "b1ed4ffcdd5578b",
   "metadata": {},
   "source": [
    "### Use Redshift Connector\n",
    "\n",
    "The [Redshift connector](https://github.com/aws/amazon-redshift-python-driver) is an AWS-maintained [DB API 2.0 driver](https://peps.python.org/pep-0249/) specifically designed for AWS Redshift databases. While it provides a reliable and official connection interface, it lacks advanced features like ORM\n",
    "  capabilities, relationship mapping, and query builders. This means developers must write most database operations using raw SQL commands, which can be verbose and require more manual effort for complex database\n",
    "  interactions."
   ]
  },
  {
   "cell_type": "code",
   "execution_count": null,
   "id": "94c64239cf8f4f93",
   "metadata": {},
   "outputs": [],
   "source": [
    "redshift_connection = connection_params.get_connection(timeout=5)\n",
    "cursor = redshift_connection.cursor()\n",
    "sql = \"SELECT 1;\"\n",
    "cursor.execute(sql)\n",
    "rows = cursor.fetchall()\n",
    "print(rows)\n",
    "print(\"Redshift connection is working!\")\n",
    "redshift_connection.close()"
   ]
  },
  {
   "cell_type": "markdown",
   "id": "49d474390952e9a5",
   "metadata": {},
   "source": [
    "### Create Sqlalchemy Engine\n",
    "\n",
    "[SQLAlchemy](https://www.sqlalchemy.org/) is the de facto standard for operating relational databases in Python, providing powerful ORM capabilities and database abstraction layers. Since AWS Redshift is built on top of PostgreSQL, it maintains compatibility with most PostgreSQL APIs and can leverage existing PostgreSQL tooling. However, the official [sqlalchemy-redshift](https://github.com/sqlalchemy-redshift/sqlalchemy-redshift) dialect is no longer maintained since April 2023 after its core AWS developer left, and its older versions force the use of SQLAlchemy < 2.0.0, which conflicts with the modern SQLAlchemy 2.0.0 standard - therefore, we built our own thin dialect layer to make SQLAlchemy work seamlessly with Redshift using the latest standards.\n",
    "\n",
    "**Limitations**:\n",
    "\n",
    "- **Table Creation Limitation**: Since we have not implemented a full Redshift dialect, it’s not possible to use SQLAlchemy to create tables. Redshift tables have special attributes such as Distribution Keys and Sort Keys, which SQLAlchemy does not understand. Therefore, you cannot use SQLAlchemy’s metadata-based create_all() functionality. You must write raw ``CREATE TABLE`` statements manually. However, once the tables are created, you can still use SQLAlchemy’s ORM and Table objects to write queries, which remains an elegant experience.\n",
    "- **Metadata Reflection Issue**: Because SQLAlchemy assumes the backend is standard PostgreSQL, using the MetaData.reflect() function to introspect and reconstruct database DDL objects in memory doesn’t work. Redshift’s PostgreSQL-compatible schema differs from the official PostgreSQL standard, and the reflection functionality cannot accurately interpret those differences.\n",
    "- **Special Syntax Support**: For Redshift-specific syntax such as the COPY command, COPY FROM S3, and UNLOAD, you must write raw SQL — there is no ORM-level abstraction. However, you can still use SQLAlchemy’s transaction context manager to manage the transactional scope of these operations.\n",
    "- **Data Type Limitation**: Redshift-specific data types are not directly supported in the ORM. You need to either use generic data types or handle special types through raw SQL statements."
   ]
  },
  {
   "cell_type": "code",
   "execution_count": null,
   "id": "972e981c51663263",
   "metadata": {},
   "outputs": [],
   "source": [
    "import sqlalchemy as sa\n",
    "\n",
    "sqlalchemy_engine = connection_params.get_engine()\n",
    "with sqlalchemy_engine.connect() as conn:\n",
    "    sql = \"SELECT 1;\"\n",
    "    rows = conn.execute(sa.text(sql)).fetchall()\n",
    "    print(rows)\n",
    "    print(\"Sqlalchemy engine is working!\")\n"
   ]
  },
  {
   "cell_type": "markdown",
   "id": "32192170542e9fd4",
   "metadata": {},
   "source": [
    "## Working with Redshift Data API\n",
    "\n",
    "### Run SQL Queries\n",
    "\n",
    "The original redshift data API execute_statement method is an async call. We provide an elegant way to run SQL on redshift and get results into Dataframe compatible  format elegantly\n"
   ]
  },
  {
   "cell_type": "code",
   "execution_count": 3,
   "id": "4f7aadcec0b9b3fd",
   "metadata": {
    "ExecuteTime": {
     "end_time": "2025-06-16T18:58:25.338561Z",
     "start_time": "2025-06-16T18:58:23.944328Z"
    }
   },
   "outputs": [
    {
     "name": "stdout",
     "output_type": "stream",
     "text": [
      "\n",
      "start waiter, polling every 1 seconds, timeout in 10 seconds.\n",
      "on 1 th attempt, elapsed 1 seconds, remain 9 seconds ...(1, 1)\n",
      "+---------+\n",
      "|   value |\n",
      "|---------|\n",
      "|       1 |\n",
      "+---------+\n"
     ]
    }
   ],
   "source": [
    "# Run SQL query and wait it to finish\n",
    "sql_cmd = rs.redshift_data_api.SqlCommand(\n",
    "    redshift_data_api_client=redshift_data_client,\n",
    "    sql=\"SELECT 1 as value;\",\n",
    "    workgroup_name=\"simple-aws-redshift-dev\",\n",
    "    database=\"dev\",\n",
    "    delay=1,\n",
    "    timeout=10,\n",
    "    verbose=True,\n",
    "    raises_on_error=True,\n",
    ")\n",
    "print(\"\")\n",
    "sql_cmd.run()\n",
    "sql_cmd.result.vdf.show()"
   ]
  },
  {
   "cell_type": "code",
   "execution_count": 6,
   "id": "e84df34c-797d-46ac-b847-24795949bfc4",
   "metadata": {},
   "outputs": [
    {
     "data": {
      "text/html": [
       "<pre style=\"white-space:pre;overflow-x:auto;line-height:normal;font-family:Menlo,'DejaVu Sans Mono',consolas,'Courier New',monospace\"><span style=\"font-weight: bold\">[</span><span style=\"color: #008000; text-decoration-color: #008000\">'value'</span><span style=\"font-weight: bold\">]</span>\n",
       "</pre>\n"
      ],
      "text/plain": [
       "\u001b[1m[\u001b[0m\u001b[32m'value'\u001b[0m\u001b[1m]\u001b[0m\n"
      ]
     },
     "metadata": {},
     "output_type": "display_data"
    },
    {
     "data": {
      "text/html": [
       "<pre style=\"white-space:pre;overflow-x:auto;line-height:normal;font-family:Menlo,'DejaVu Sans Mono',consolas,'Courier New',monospace\"><span style=\"font-weight: bold\">[(</span><span style=\"color: #008080; text-decoration-color: #008080; font-weight: bold\">1</span>,<span style=\"font-weight: bold\">)]</span>\n",
       "</pre>\n"
      ],
      "text/plain": [
       "\u001b[1m[\u001b[0m\u001b[1m(\u001b[0m\u001b[1;36m1\u001b[0m,\u001b[1m)\u001b[0m\u001b[1m]\u001b[0m\n"
      ]
     },
     "metadata": {},
     "output_type": "display_data"
    }
   ],
   "source": [
    "from rich import print as rprint\n",
    "\n",
    "rprint(sql_cmd.result.vdf.columns)\n",
    "rprint(sql_cmd.result.vdf.rows)"
   ]
  }
 ],
 "metadata": {
  "kernelspec": {
   "display_name": "Python 3 (ipykernel)",
   "language": "python",
   "name": "python3"
  },
  "language_info": {
   "codemirror_mode": {
    "name": "ipython",
    "version": 3
   },
   "file_extension": ".py",
   "mimetype": "text/x-python",
   "name": "python",
   "nbconvert_exporter": "python",
   "pygments_lexer": "ipython3",
   "version": "3.11.8"
  }
 },
 "nbformat": 4,
 "nbformat_minor": 5
}
